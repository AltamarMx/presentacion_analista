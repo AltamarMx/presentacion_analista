{
  "cells": [
    {
      "cell_type": "markdown",
      "metadata": {},
      "source": [
        "---\n",
        "title: \"MOOC Python: De explorador de datos a analista\"\n",
        "subtitle: MOOC\n",
        "lang: es\n",
        "\n",
        "author:\n",
        "  name: Guillermo Barrios del Valle\n",
        "  email: gbv@ier.unam.mx\n",
        "  afiliation: Instituto de Energías Renovables, UNAM\n",
        "format: \n",
        "  revealjs:\n",
        "    slide-number: c/t  \n",
        "    touch: true\n",
        "    # footer: 20ma. Semana Académica de Actualización y Desarrollo\n",
        "---\n",
        "\n",
        "\n",
        "## Diapositiva 1  \n",
        "\n",
        "hola mundo\n",
        "\n",
        "## Diapositiva 2"
      ],
      "id": "7358a5e0"
    },
    {
      "cell_type": "code",
      "metadata": {},
      "source": [
        "import this"
      ],
      "id": "4151f8b1",
      "execution_count": null,
      "outputs": []
    }
  ],
  "metadata": {
    "kernelspec": {
      "display_name": "Python 3",
      "language": "python",
      "name": "python3"
    }
  },
  "nbformat": 4,
  "nbformat_minor": 5
}